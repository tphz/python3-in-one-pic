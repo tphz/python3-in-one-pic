{
 "cells": [
  {
   "cell_type": "code",
   "execution_count": null,
   "metadata": {
    "collapsed": false
   },
   "outputs": [],
   "source": [
    "import this"
   ]
  },
  {
   "cell_type": "markdown",
   "metadata": {},
   "source": [
    "### I. Native DataTypes\n",
    "#### Number"
   ]
  },
  {
   "cell_type": "code",
   "execution_count": null,
   "metadata": {
    "collapsed": false
   },
   "outputs": [],
   "source": [
    "## integer\n",
    "a = 1\n",
    "b = 0x10            # 16\n",
    "print(type(a))      # <class 'int'>"
   ]
  },
  {
   "cell_type": "code",
   "execution_count": null,
   "metadata": {
    "collapsed": false
   },
   "outputs": [],
   "source": [
    "## float\n",
    "c = 1.2\n",
    "d = .5              # 0.5\n",
    "g = .314e1          # 3.14\n",
    "print(type(g))      # <class 'float'>"
   ]
  },
  {
   "cell_type": "code",
   "execution_count": null,
   "metadata": {
    "collapsed": false
   },
   "outputs": [],
   "source": [
    "## complex\n",
    "e = 1+2j\n",
    "f = complex(1, 2)\n",
    "print(type(e))      # <class 'complex'>\n",
    "print(f == e)       # True"
   ]
  },
  {
   "cell_type": "code",
   "execution_count": null,
   "metadata": {
    "collapsed": false
   },
   "outputs": [],
   "source": [
    "## Operators: + - * / ** // %\n",
    "print(1 + 1)\n",
    "\n",
    "print(2 - 2)\n",
    "\n",
    "print(3 * 3)\n",
    "\n",
    "print(5 / 4)\n",
    "\n",
    "print(2 ** 10)\n",
    "\n",
    "print(5 // 4)\n",
    "\n",
    "print(5 % 4)"
   ]
  },
  {
   "cell_type": "code",
   "execution_count": null,
   "metadata": {
    "collapsed": false
   },
   "outputs": [],
   "source": [
    "## Casting\n",
    "### Integer -> Float\n",
    "print(float.__doc__)\n",
    "\n",
    "print(float(3))\n",
    "print(3 / 1)\n",
    "print(float(\"3.14\"))"
   ]
  },
  {
   "cell_type": "code",
   "execution_count": null,
   "metadata": {
    "collapsed": false
   },
   "outputs": [],
   "source": [
    "### Float -> Integer\n",
    "print(int.__doc__)"
   ]
  },
  {
   "cell_type": "code",
   "execution_count": null,
   "metadata": {
    "collapsed": false
   },
   "outputs": [],
   "source": [
    "print(int(3.14))               # 3\n",
    "print(int(\"3\", base = 10))     # 3\n",
    "print(int(\"1010\", base = 2))   # 10\n",
    "print(int(\"0b1010\", base = 0)) # 10"
   ]
  },
  {
   "cell_type": "markdown",
   "metadata": {},
   "source": [
    "#### String"
   ]
  },
  {
   "cell_type": "code",
   "execution_count": null,
   "metadata": {
    "collapsed": false
   },
   "outputs": [],
   "source": [
    "s1 = ':dog:\\n'\n",
    "s2 = \"Dogge's home\"\n",
    "s3 = \"\"\"\n",
    "Hello,\n",
    "Dogge!\n",
    "\"\"\"\n",
    "print(type(s1))     # <class 'str'>\n",
    "print(\"%s, %s, %s\" % (s1, s2, s3))"
   ]
  },
  {
   "cell_type": "code",
   "execution_count": null,
   "metadata": {
    "collapsed": false
   },
   "outputs": [],
   "source": [
    "## Length\n",
    "print(len(s1))      # 2"
   ]
  },
  {
   "cell_type": "code",
   "execution_count": null,
   "metadata": {
    "collapsed": false
   },
   "outputs": [],
   "source": [
    "## Slicing\n",
    "s = 'study and practice'\n",
    "print('{0}:{1}'.format(s[:5], s[-8:]))    # study:practice"
   ]
  },
  {
   "cell_type": "code",
   "execution_count": null,
   "metadata": {
    "collapsed": false
   },
   "outputs": [],
   "source": [
    "## Operator: +\n",
    "print(\"abc\" + \".\" + \"xyz\")"
   ]
  },
  {
   "cell_type": "code",
   "execution_count": null,
   "metadata": {
    "collapsed": false
   },
   "outputs": [],
   "source": [
    "## Casting\n",
    "print(str.__doc__)\n",
    "\n",
    "print(str(3.14))\n",
    "print(str(3))\n",
    "print(str([1,2,3]))\n",
    "print(str((1,2,3)))\n",
    "print(str({1,2,3}))\n",
    "print(str({'python': '*.py', 'javascript': '*.js'}))"
   ]
  },
  {
   "cell_type": "markdown",
   "metadata": {},
   "source": [
    "#### Byte"
   ]
  },
  {
   "cell_type": "code",
   "execution_count": null,
   "metadata": {
    "collapsed": false
   },
   "outputs": [],
   "source": [
    "# Byte\n",
    "## 0-255/x00-xff\n",
    "byt = b'abc'\n",
    "print(type(byt))    # <class 'bytes'>\n",
    "print(byt[0] == 'a')# False\n",
    "print(byt[0] == 97) # True"
   ]
  },
  {
   "cell_type": "code",
   "execution_count": null,
   "metadata": {
    "collapsed": false
   },
   "outputs": [],
   "source": [
    "## Length\n",
    "print(len(byt))     # 3"
   ]
  },
  {
   "cell_type": "markdown",
   "metadata": {},
   "source": [
    "#### Boolean"
   ]
  },
  {
   "cell_type": "code",
   "execution_count": null,
   "metadata": {
    "collapsed": false
   },
   "outputs": [],
   "source": [
    "True\n",
    "False\n",
    "print(type(True))   # <class 'bool'>"
   ]
  },
  {
   "cell_type": "markdown",
   "metadata": {},
   "source": [
    "#### None"
   ]
  },
  {
   "cell_type": "code",
   "execution_count": null,
   "metadata": {
    "collapsed": false
   },
   "outputs": [],
   "source": [
    "print(None is None) # True\n",
    "print(type(None))   # <class 'NoneType'>"
   ]
  },
  {
   "cell_type": "markdown",
   "metadata": {},
   "source": [
    "## List 列表 用[ ]"
   ]
  },
  {
   "cell_type": "code",
   "execution_count": null,
   "metadata": {
    "collapsed": false
   },
   "outputs": [],
   "source": [
    "l = ['python', 3, 'in', 'one']\n",
    "print(type(l))      # <class 'list'>"
   ]
  },
  {
   "cell_type": "code",
   "execution_count": null,
   "metadata": {
    "collapsed": false
   },
   "outputs": [],
   "source": [
    "## Length\n",
    "print(len(l))       # 4"
   ]
  },
  {
   "cell_type": "code",
   "execution_count": null,
   "metadata": {
    "collapsed": false
   },
   "outputs": [],
   "source": [
    "## Slicing\n",
    "print(l[0])         # 'python'\n",
    "print(l[-1])        # 'one'\n",
    "print(l[1:-1])      # [3, 'in']"
   ]
  },
  {
   "cell_type": "code",
   "execution_count": null,
   "metadata": {
    "collapsed": false
   },
   "outputs": [],
   "source": [
    "## Alter\n",
    "l.append('pic')     # None\n",
    "print(l)\n",
    "# l == ['python', 3, 'in', 'one', 'pic']\n",
    "\n",
    "l.insert(2, '.4.1') # None\n",
    "print(l)\n",
    "# l == ['python', 3, '.4.1', 'in', 'one', 'pic']\n",
    "\n",
    "l.extend(['!', '!'])\n",
    "print(l)\n",
    "# l == ['python', 3, '.4.1', 'in', 'one', 'pic', '!', '!']"
   ]
  },
  {
   "cell_type": "code",
   "execution_count": null,
   "metadata": {
    "collapsed": false
   },
   "outputs": [],
   "source": [
    "print(l.pop())             # '!'\n",
    "print(l)\n",
    "# l == ['python', 3, '.4.1', 'in', 'one', 'pic', '!']\n",
    "\n",
    "print(l.pop(2))           # '.4.1'\n",
    "print(l)\n",
    "# l == ['python', 3, 'in', 'one', 'pic', '!']\n",
    "\n",
    "l.remove(\"in\")\n",
    "print(l)\n",
    "# l == ['python', 3, 'one', 'pic', '!']\n",
    "\n",
    "del l[2]\n",
    "print(l)\n",
    "# l == ['python', 3, 'pic', '!']"
   ]
  },
  {
   "cell_type": "code",
   "execution_count": null,
   "metadata": {
    "collapsed": false
   },
   "outputs": [],
   "source": [
    "print(l.index('pic'))       # 2"
   ]
  },
  {
   "cell_type": "markdown",
   "metadata": {},
   "source": [
    "## Tuple 元组，用(),其中的元素不能更改"
   ]
  },
  {
   "cell_type": "code",
   "execution_count": null,
   "metadata": {
    "collapsed": false
   },
   "outputs": [],
   "source": [
    "tp = (1, 2, 3, [4, 5])\n",
    "print(type(tp)) # <class 'tuple'>"
   ]
  },
  {
   "cell_type": "code",
   "execution_count": null,
   "metadata": {
    "collapsed": false
   },
   "outputs": [],
   "source": [
    "## Length\n",
    "print(len(tp))  # 4\n",
    "\n",
    "print(tp[2])    # 3\n",
    "tp[3][1] = 6\n",
    "print(tp)       # (1, 2, 3, [4, 6])"
   ]
  },
  {
   "cell_type": "code",
   "execution_count": null,
   "metadata": {
    "collapsed": false
   },
   "outputs": [],
   "source": [
    "## Single element\n",
    "tp = (1, )      # Not tp = (1)\n",
    "print(tp)"
   ]
  },
  {
   "cell_type": "code",
   "execution_count": null,
   "metadata": {
    "collapsed": false
   },
   "outputs": [],
   "source": [
    "## Assign multiple values at once\n",
    "v = (3, 2, 'a')\n",
    "(c, b, a) = v\n",
    "print(a, b, c)  # a 2 3"
   ]
  },
  {
   "cell_type": "markdown",
   "metadata": {},
   "source": [
    "## Set 集合， 用{ },集合是一个无序不重复元素集"
   ]
  },
  {
   "cell_type": "code",
   "execution_count": null,
   "metadata": {
    "collapsed": false
   },
   "outputs": [],
   "source": [
    "st = {'s', 'e', 'T'}\n",
    "print(type(st)) # <class 'set'>"
   ]
  },
  {
   "cell_type": "code",
   "execution_count": null,
   "metadata": {
    "collapsed": false
   },
   "outputs": [],
   "source": [
    "## Length\n",
    "print(len(st))  # 3"
   ]
  },
  {
   "cell_type": "code",
   "execution_count": null,
   "metadata": {
    "collapsed": false
   },
   "outputs": [],
   "source": [
    "## Empty\n",
    "st = set()\n",
    "print(len(st))  # 0"
   ]
  },
  {
   "cell_type": "code",
   "execution_count": null,
   "metadata": {
    "collapsed": false
   },
   "outputs": [],
   "source": [
    "st = {}\n",
    "print(type(st)) # <class 'dict'>"
   ]
  },
  {
   "cell_type": "code",
   "execution_count": null,
   "metadata": {
    "collapsed": false
   },
   "outputs": [],
   "source": [
    "## Alter\n",
    "st = set(['s', 'e', 'T'])\n",
    "st.add('t')     # st == {'s', 'e', 't', 'T'}\n",
    "st.add('t')     # st == {'s', 'e', 't', 'T'}\n",
    "st.update(['!', '!'])\n",
    "print(st)\n",
    "# st == {'s', 'e', 't', 'T', '!'}\n",
    "\n",
    "st.discard('t') # st == {'T', '!', 's', 'e'} # No Error\n",
    "st.remove('T')  # st == {'s', 'e', '!'}      # KeyError\n",
    "st.pop()        # 's'\n",
    "print(st)\n",
    "# st == {'e'}\n",
    "\n",
    "st.clear()      # st == set()\n",
    "print(st)"
   ]
  },
  {
   "cell_type": "markdown",
   "metadata": {},
   "source": [
    "## Dict 字典，键值对"
   ]
  },
  {
   "cell_type": "code",
   "execution_count": 1,
   "metadata": {
    "collapsed": false
   },
   "outputs": [
    {
     "name": "stdout",
     "output_type": "stream",
     "text": [
      "<class 'dict'>\n",
      "{'k1': 'v1', 'k2': 'v2'}\n"
     ]
    }
   ],
   "source": [
    "dic = {}\n",
    "print(type(dic))    # <class 'dict'>\n",
    "\n",
    "dic = {'k1': 'v1', 'k2': 'v2'}\n",
    "print(dic)"
   ]
  },
  {
   "cell_type": "code",
   "execution_count": 2,
   "metadata": {
    "collapsed": false
   },
   "outputs": [
    {
     "name": "stdout",
     "output_type": "stream",
     "text": [
      "2\n"
     ]
    }
   ],
   "source": [
    "## Length\n",
    "print(len(dic))     # 2"
   ]
  },
  {
   "cell_type": "code",
   "execution_count": 3,
   "metadata": {
    "collapsed": false
   },
   "outputs": [
    {
     "name": "stdout",
     "output_type": "stream",
     "text": [
      "v2\n",
      "v1\n",
      "v0\n",
      "{'k1': 'v1', 'k2': 'v3'}\n",
      "True\n",
      "False\n"
     ]
    }
   ],
   "source": [
    "print(dic['k2'])            # 'v2'\n",
    "print(dic.get('k1'))        # 'v1'\n",
    "print(dic.get('k3', 'v0'))  # 'v0'\n",
    "\n",
    "dic['k2'] = 'v3'\n",
    "print(dic)                  # {'k1': 'v1', 'k2': 'v3'}\n",
    "\n",
    "print('k2' in dic)          # True\n",
    "print('v1' in dic)          # False"
   ]
  },
  {
   "cell_type": "markdown",
   "metadata": {},
   "source": [
    "### III. Flow Control\n",
    "\n",
    "#### If"
   ]
  },
  {
   "cell_type": "code",
   "execution_count": null,
   "metadata": {
    "collapsed": false
   },
   "outputs": [],
   "source": [
    "import sys\n",
    "if sys.version_info.major < 3:\n",
    "    print(\"Version 2.X\")\n",
    "elif sys.version_info.major > 3:\n",
    "    print(\"Future\")\n",
    "else:\n",
    "    print(\"Version 3.X\")"
   ]
  },
  {
   "cell_type": "markdown",
   "metadata": {},
   "source": [
    "#### Loop"
   ]
  },
  {
   "cell_type": "markdown",
   "metadata": {},
   "source": [
    "**for**"
   ]
  },
  {
   "cell_type": "code",
   "execution_count": null,
   "metadata": {
    "collapsed": false
   },
   "outputs": [],
   "source": [
    "for i in \"Hello\":\n",
    "    print(i)"
   ]
  },
  {
   "cell_type": "markdown",
   "metadata": {},
   "source": [
    "**while**"
   ]
  },
  {
   "cell_type": "code",
   "execution_count": null,
   "metadata": {
    "collapsed": false
   },
   "outputs": [],
   "source": [
    "prod = 1\n",
    "i = 1\n",
    "while i < 10:\n",
    "    prod = prod * i\n",
    "    i += 1\n",
    "print(prod)"
   ]
  },
  {
   "cell_type": "code",
   "execution_count": null,
   "metadata": {
    "collapsed": false
   },
   "outputs": [],
   "source": [
    "## break & continue\n",
    "for n in range(2, 10):\n",
    "    if n % 2 == 0:\n",
    "        print(\"Found an even number \", n)\n",
    "        continue\n",
    "    if n > 5:\n",
    "        print(\"n > 5!\")\n",
    "        break"
   ]
  },
  {
   "cell_type": "code",
   "execution_count": null,
   "metadata": {
    "collapsed": false
   },
   "outputs": [],
   "source": [
    "## continue\n",
    "for num in range(2, 10):\n",
    "    if num % 2 == 0:\n",
    "        print(\"Found an even number\", num)\n",
    "        continue\n",
    "    print(\"Found a number\", num)"
   ]
  },
  {
   "cell_type": "markdown",
   "metadata": {},
   "source": [
    "#### Comprehension"
   ]
  },
  {
   "cell_type": "markdown",
   "metadata": {},
   "source": [
    "**List**"
   ]
  },
  {
   "cell_type": "code",
   "execution_count": null,
   "metadata": {
    "collapsed": false
   },
   "outputs": [],
   "source": [
    "s = [2 * x for x in range(10) if x ** 2 > 3]\n",
    "print(s)\n",
    "\n",
    "pairs = [(x, y) for x in range(2) for y in range(2)]\n",
    "print(pairs)"
   ]
  },
  {
   "cell_type": "markdown",
   "metadata": {},
   "source": [
    "**Set**"
   ]
  },
  {
   "cell_type": "code",
   "execution_count": null,
   "metadata": {
    "collapsed": false
   },
   "outputs": [],
   "source": [
    "s = {2 * x for x in range(10) if x ** 2 > 3}\n",
    "print(s)\n",
    "\n",
    "pairs = set([(x, y) for x in range(2) for y in range(2)])\n",
    "print(pairs)"
   ]
  },
  {
   "cell_type": "markdown",
   "metadata": {},
   "source": [
    "**Dict**"
   ]
  },
  {
   "cell_type": "code",
   "execution_count": null,
   "metadata": {
    "collapsed": false
   },
   "outputs": [],
   "source": [
    "ls = {s: len(s) for s in [\"Python\", \"Javascript\", \"Golang\"]}\n",
    "print(ls)\n",
    "\n",
    "sl = {v: k for k, v in ls.items()}\n",
    "print(sl)"
   ]
  },
  {
   "cell_type": "markdown",
   "metadata": {},
   "source": [
    "#### Iterators & Generators"
   ]
  },
  {
   "cell_type": "code",
   "execution_count": null,
   "metadata": {
    "collapsed": false
   },
   "outputs": [],
   "source": [
    "python = iter(\"Python\")\n",
    "print(python)\n",
    "for i in python:\n",
    "    print(i)"
   ]
  },
  {
   "cell_type": "code",
   "execution_count": null,
   "metadata": {
    "collapsed": false
   },
   "outputs": [],
   "source": [
    "def reverse(data):\n",
    "    for index in range(len(data)-1, -1, -1):\n",
    "        yield data[index]\n",
    "nohtyp = reverse(\"Python\")\n",
    "print(nohtyp)\n",
    "for i in nohtyp:\n",
    "    print(i)"
   ]
  },
  {
   "cell_type": "markdown",
   "metadata": {},
   "source": [
    "### IV. Function\n",
    "#### Definition"
   ]
  },
  {
   "cell_type": "code",
   "execution_count": null,
   "metadata": {
    "collapsed": false
   },
   "outputs": [],
   "source": [
    "def f():\n",
    "    \"\"\"return 'Hello, World!'\"\"\"\n",
    "    return \"Hello, World!\"\n",
    "\n",
    "print(f())\n",
    "print(f.__doc__)"
   ]
  },
  {
   "cell_type": "markdown",
   "metadata": {},
   "source": [
    "#### Arguments"
   ]
  },
  {
   "cell_type": "code",
   "execution_count": null,
   "metadata": {
    "collapsed": false
   },
   "outputs": [],
   "source": [
    "## default arguments\n",
    "def f(name = \"World\"):\n",
    "    \"\"\"return 'Hello, $name'\"\"\"\n",
    "    return \"Hello, {}!\".format(name)\n",
    "print(f())\n",
    "print(f(\"Python\"))"
   ]
  },
  {
   "cell_type": "code",
   "execution_count": null,
   "metadata": {
    "collapsed": false
   },
   "outputs": [],
   "source": [
    "## keyword arguments\n",
    "def f(v, l = \"Python\"):\n",
    "    \"\"\"return '$v, $l'\"\"\"\n",
    "    return \"{}, {}!\".format(v, l)\n",
    "print(f(\"Hello\"))\n",
    "print(f(\"Bye\", \"C/C++\"))"
   ]
  },
  {
   "cell_type": "code",
   "execution_count": null,
   "metadata": {
    "collapsed": false
   },
   "outputs": [],
   "source": [
    "## arbitrary arguments\n",
    "def f(*args, con = \" & \"):\n",
    "    print(isinstance(args, tuple))\n",
    "    print(\"Hello\", con.join(args))\n",
    "\n",
    "f(\"Python\", \"C\", \"C++\", con = \"/\")"
   ]
  },
  {
   "cell_type": "code",
   "execution_count": null,
   "metadata": {
    "collapsed": false
   },
   "outputs": [],
   "source": [
    "def f(*args, **kargs):\n",
    "    print(\"args \", args)\n",
    "    print(\"kargs \", kargs)\n",
    "    print(\"FP: {} & Scripts: {}\".format(kargs.get(\"fp\"), \"/\".join(args)))\n",
    "    \n",
    "f(\"Python\", \"Javascript\", ms = \"C++\", fp = \"Haskell\")"
   ]
  },
  {
   "cell_type": "markdown",
   "metadata": {},
   "source": [
    "#### Lambda"
   ]
  },
  {
   "cell_type": "code",
   "execution_count": null,
   "metadata": {
    "collapsed": false
   },
   "outputs": [],
   "source": [
    "pairs = [(1, 'one'), (2, 'two'), (3, 'three'), (4, 'four')]\n",
    "pairs.sort(key=lambda pair: pair[1])\n",
    "print(pairs)\n",
    "pairs.sort(key=lambda pair: pair[0])\n",
    "print(pairs)"
   ]
  },
  {
   "cell_type": "markdown",
   "metadata": {},
   "source": [
    "#### @decorator"
   ]
  },
  {
   "cell_type": "code",
   "execution_count": null,
   "metadata": {
    "collapsed": false
   },
   "outputs": [],
   "source": [
    "def log(f):\n",
    "    def wrapper():\n",
    "        print(\"Hey log~\")\n",
    "        f()\n",
    "        print(\"Bye log~\")\n",
    "    return wrapper\n",
    "\n",
    "@log\n",
    "def fa():\n",
    "    print(\"This is fa!\")\n",
    "\n",
    "# Equal to...\n",
    "def fb():\n",
    "    print(\"This is fb!\")\n",
    "fb = log(fb)\n",
    "\n",
    "fa()\n",
    "print(\"*\"*10)\n",
    "fb()"
   ]
  },
  {
   "cell_type": "markdown",
   "metadata": {},
   "source": [
    "### V. Class(OOP)"
   ]
  },
  {
   "cell_type": "markdown",
   "metadata": {},
   "source": [
    "### `class`"
   ]
  },
  {
   "cell_type": "code",
   "execution_count": null,
   "metadata": {
    "collapsed": false
   },
   "outputs": [],
   "source": [
    "class Animal:\n",
    "    \"\"\"This is an Animal\"\"\"\n",
    "    def fly(_):\n",
    "        print(\"I can fly!\")\n",
    "a = Animal()\n",
    "a.fly()          # I can fly!\n",
    "print(a.__doc__) # This is an Animal"
   ]
  },
  {
   "cell_type": "markdown",
   "metadata": {},
   "source": [
    "### `__init__` & `self`"
   ]
  },
  {
   "cell_type": "code",
   "execution_count": null,
   "metadata": {
    "collapsed": false
   },
   "outputs": [],
   "source": [
    "class Animal:\n",
    "    \"\"\"This is an Animal\"\"\"\n",
    "    def __init__(self, can_fly = False):\n",
    "        print(\"Calling __init__() when instantiation!\")\n",
    "        self.can_fly = can_fly\n",
    "    def fly(self):\n",
    "        if self.can_fly:\n",
    "            print(\"I CAN fly!\")\n",
    "        else:\n",
    "            print(\"I can not fly!\")\n",
    "a = Animal()               # Calling __init__() when instantiation!\n",
    "a.fly()                    # I can not fly!\n",
    "\n",
    "b = Animal(can_fly = True) # Calling __init__() when instantiation!\n",
    "b.fly()                    # I CAN fly!"
   ]
  },
  {
   "cell_type": "markdown",
   "metadata": {},
   "source": [
    "### Instance"
   ]
  },
  {
   "cell_type": "code",
   "execution_count": null,
   "metadata": {
    "collapsed": false
   },
   "outputs": [],
   "source": [
    "class Animal:\n",
    "    pass\n",
    "class Human:\n",
    "    pass\n",
    "a = Animal()\n",
    "h = Human()\n",
    "print(isinstance(a, Animal))\n",
    "print(isinstance(h, Animal))"
   ]
  },
  {
   "cell_type": "markdown",
   "metadata": {},
   "source": [
    "### Inheritance"
   ]
  },
  {
   "cell_type": "code",
   "execution_count": null,
   "metadata": {
    "collapsed": false
   },
   "outputs": [],
   "source": [
    "class Animal:\n",
    "    \"\"\"This is an Animal\"\"\"\n",
    "    def __init__(self, can_fly = False):\n",
    "        self.can_fly = can_fly\n",
    "    def fly(self):\n",
    "        if self.can_fly:\n",
    "            print(\"I CAN fly!\")\n",
    "        else:\n",
    "            print(\"I can not fly!\")\n",
    "class Dog(Animal):\n",
    "    \"\"\"This is a Dog\"\"\"\n",
    "    def bark(self):\n",
    "        print(\"Woof!\")\n",
    "d = Dog()\n",
    "d.fly()\n",
    "d.bark()"
   ]
  },
  {
   "cell_type": "markdown",
   "metadata": {},
   "source": [
    "### Override"
   ]
  },
  {
   "cell_type": "code",
   "execution_count": null,
   "metadata": {
    "collapsed": false
   },
   "outputs": [],
   "source": [
    "class Animal:\n",
    "    \"\"\"This is an Animal\"\"\"\n",
    "    def __init__(self, can_fly = False):\n",
    "        self.can_fly = can_fly\n",
    "    def fly(self):\n",
    "        if self.can_fly:\n",
    "            print(\"I CAN fly!\")\n",
    "        else:\n",
    "            print(\"I can not fly!\")\n",
    "class Bird:\n",
    "    \"\"\"This is a Bird\"\"\"\n",
    "    def fly(self):\n",
    "        print(\"I'm flying high!\")\n",
    "bird = Bird()\n",
    "bird.fly()    # I'm flying high!"
   ]
  },
  {
   "cell_type": "markdown",
   "metadata": {},
   "source": [
    "### VI. Module"
   ]
  },
  {
   "cell_type": "markdown",
   "metadata": {},
   "source": [
    "#### `import`"
   ]
  },
  {
   "cell_type": "code",
   "execution_count": null,
   "metadata": {
    "collapsed": false
   },
   "outputs": [],
   "source": [
    "import os\n",
    "print(os.name)\n",
    "\n",
    "from sys import version_info as PY_VERSION\n",
    "print(\"VERSON: {}.{}\".format(PY_VERSION.major, PY_VERSION.minor))\n",
    "\n",
    "from math import *\n",
    "print(pi)"
   ]
  },
  {
   "cell_type": "markdown",
   "metadata": {},
   "source": [
    "#### Search Path\n",
    "\n",
    "1. current directory\n",
    "2. `echo $PYTHONPATH`\n",
    "3. `sys.path`"
   ]
  },
  {
   "cell_type": "markdown",
   "metadata": {},
   "source": [
    "#### Package"
   ]
  },
  {
   "cell_type": "code",
   "execution_count": null,
   "metadata": {
    "collapsed": false
   },
   "outputs": [],
   "source": [
    "\"\"\"\n",
    "MyModule/\n",
    "|--SubModuleOne/\n",
    "    |--__init__.py\n",
    "    |--smo.py\n",
    "\n",
    "# smo.py\n",
    "def run():\n",
    "    print(\"Running MyModule.SubModuleOne.smo!\")\n",
    "\"\"\"\n",
    "from MyModule.SubModule import smo\n",
    "smo.run()\n",
    "# Running MyModule.SubModuleOne.smo!"
   ]
  },
  {
   "cell_type": "markdown",
   "metadata": {},
   "source": [
    "### VII. Pythonic\n",
    "\n",
    "### VIII. Standard Libraries"
   ]
  },
  {
   "cell_type": "code",
   "execution_count": null,
   "metadata": {
    "collapsed": true
   },
   "outputs": [],
   "source": []
  }
 ],
 "metadata": {
  "kernelspec": {
   "display_name": "Python 3.9.4 64-bit",
   "language": "python",
   "name": "python3"
  },
  "language_info": {
   "codemirror_mode": {
    "name": "ipython",
    "version": 3
   },
   "file_extension": ".py",
   "mimetype": "text/x-python",
   "name": "python",
   "nbconvert_exporter": "python",
   "pygments_lexer": "ipython3",
   "version": "3.10.9"
  },
  "vscode": {
   "interpreter": {
    "hash": "81794d4967e6c3204c66dcd87b604927b115b27c00565d3d43f05ba2f3a2cb0d"
   }
  }
 },
 "nbformat": 4,
 "nbformat_minor": 0
}
